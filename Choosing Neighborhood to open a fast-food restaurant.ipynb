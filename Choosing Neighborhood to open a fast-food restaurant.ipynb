{
 "cells": [
  {
   "cell_type": "markdown",
   "metadata": {},
   "source": [
    "# Opening a fast food restaurant in Baltimore, MD"
   ]
  },
  {
   "cell_type": "markdown",
   "metadata": {},
   "source": [
    "## 1. Introduction"
   ]
  },
  {
   "cell_type": "markdown",
   "metadata": {},
   "source": [
    "### 1.1 Business Problem"
   ]
  },
  {
   "cell_type": "markdown",
   "metadata": {},
   "source": [
    "The objective of this capstone project is to find the most suitable location for the entrepreneur to open a new fast food restaurant in Baltimore, MD. By using data science methods and unsupervised machine learning methods such as clustering, this project aims to provide solutions to answer the business question: In Baltimore, if an entrepreneur wants to open a fast food restaurant, where should he consider opening it?"
   ]
  },
  {
   "cell_type": "markdown",
   "metadata": {},
   "source": [
    "### 1.2 Target Audience"
   ]
  },
  {
   "cell_type": "markdown",
   "metadata": {},
   "source": [
    "The entrepreneur who wants to find the location to open a fast food restaurant in Baltimore"
   ]
  },
  {
   "cell_type": "markdown",
   "metadata": {},
   "source": [
    "## 2. Data"
   ]
  },
  {
   "cell_type": "markdown",
   "metadata": {},
   "source": [
    "### 2.1 Baltimore rent prices dataset"
   ]
  },
  {
   "cell_type": "markdown",
   "metadata": {},
   "source": [
    "This dataset contains average rent prices for standard 1 bedroom apartment for each of 272 Baltimore neighborhoods. Unfortunately, I did not find the similar dataset for commercial real estate, however rent prices ratio among neighborhoods should be more or less similar for residential and commercial real estate. \n",
    "Rent price amount is one of the most important factors in terms of choosing the place for future restaurant. Thats why this variable will be included in the analysis"
   ]
  },
  {
   "cell_type": "markdown",
   "metadata": {},
   "source": [
    "### 2.2 Baltimore crime dataset"
   ]
  },
  {
   "cell_type": "markdown",
   "metadata": {},
   "source": [
    "Baltimore is very far from being a safe city. That is why this dataset will help to determine the safest neighborhoods as every entrepreneur wants to have his business located in a safe area"
   ]
  },
  {
   "cell_type": "markdown",
   "metadata": {},
   "source": [
    "### 2.3 Baltimore population dataset"
   ]
  },
  {
   "cell_type": "markdown",
   "metadata": {},
   "source": [
    "This dataset contains information about population of each of 272 Baltimore neighborhoods. I need this data to determine criminal level in each neighborhood, because absolute number of crimes per neighborhood does not represent safety level since in highly populated neighborhoods there is higher probability of happening more crimes. So, I will divide number of crimes by population to calculate number of crimes per person in Baltimore neighborhoods"
   ]
  },
  {
   "cell_type": "markdown",
   "metadata": {},
   "source": [
    "### 2.4 Foursquare API"
   ]
  },
  {
   "cell_type": "markdown",
   "metadata": {},
   "source": [
    "Foursquare API will allow to retrieve information about the number of popular spots in each neighborhood in Baltimore. This will be a good indication of foot traffic. Calling the Foursquare API returns a JSON file, which can be turned into a dataframe for analysis in python"
   ]
  },
  {
   "cell_type": "markdown",
   "metadata": {},
   "source": [
    "## 3. Data Preparation"
   ]
  },
  {
   "cell_type": "code",
   "execution_count": 1,
   "metadata": {},
   "outputs": [
    {
     "name": "stdout",
     "output_type": "stream",
     "text": [
      "Collecting package metadata (current_repodata.json): done\n",
      "Solving environment: done\n",
      "\n",
      "## Package Plan ##\n",
      "\n",
      "  environment location: /home/jupyterlab/conda/envs/python\n",
      "\n",
      "  added / updated specs:\n",
      "    - geopy\n",
      "\n",
      "\n",
      "The following packages will be downloaded:\n",
      "\n",
      "    package                    |            build\n",
      "    ---------------------------|-----------------\n",
      "    ca-certificates-2020.4.5.2 |       hecda079_0         147 KB  conda-forge\n",
      "    certifi-2020.4.5.2         |   py36h9f0ad1d_0         152 KB  conda-forge\n",
      "    geographiclib-1.50         |             py_0          34 KB  conda-forge\n",
      "    geopy-1.22.0               |     pyh9f0ad1d_0          63 KB  conda-forge\n",
      "    ------------------------------------------------------------\n",
      "                                           Total:         395 KB\n",
      "\n",
      "The following NEW packages will be INSTALLED:\n",
      "\n",
      "  geographiclib      conda-forge/noarch::geographiclib-1.50-py_0\n",
      "  geopy              conda-forge/noarch::geopy-1.22.0-pyh9f0ad1d_0\n",
      "\n",
      "The following packages will be UPDATED:\n",
      "\n",
      "  ca-certificates                     2020.4.5.1-hecc5488_0 --> 2020.4.5.2-hecda079_0\n",
      "  certifi                         2020.4.5.1-py36h9f0ad1d_0 --> 2020.4.5.2-py36h9f0ad1d_0\n",
      "\n",
      "\n",
      "\n",
      "Downloading and Extracting Packages\n",
      "geopy-1.22.0         | 63 KB     | ##################################### | 100% \n",
      "certifi-2020.4.5.2   | 152 KB    | ##################################### | 100% \n",
      "ca-certificates-2020 | 147 KB    | ##################################### | 100% \n",
      "geographiclib-1.50   | 34 KB     | ##################################### | 100% \n",
      "Preparing transaction: done\n",
      "Verifying transaction: done\n",
      "Executing transaction: done\n",
      "Collecting package metadata (current_repodata.json): done\n",
      "Solving environment: failed with initial frozen solve. Retrying with flexible solve.\n",
      "Collecting package metadata (repodata.json): done\n",
      "Solving environment: done\n",
      "\n",
      "## Package Plan ##\n",
      "\n",
      "  environment location: /home/jupyterlab/conda/envs/python\n",
      "\n",
      "  added / updated specs:\n",
      "    - folium=0.5.0\n",
      "\n",
      "\n",
      "The following packages will be downloaded:\n",
      "\n",
      "    package                    |            build\n",
      "    ---------------------------|-----------------\n",
      "    altair-4.1.0               |             py_1         614 KB  conda-forge\n",
      "    branca-0.4.1               |             py_0          26 KB  conda-forge\n",
      "    brotlipy-0.7.0             |py36h8c4c3a4_1000         346 KB  conda-forge\n",
      "    chardet-3.0.4              |py36h9f0ad1d_1006         188 KB  conda-forge\n",
      "    cryptography-2.9.2         |   py36h45558ae_0         613 KB  conda-forge\n",
      "    folium-0.5.0               |             py_0          45 KB  conda-forge\n",
      "    pandas-1.0.4               |   py36h830a2c2_0        10.1 MB  conda-forge\n",
      "    pysocks-1.7.1              |   py36h9f0ad1d_1          27 KB  conda-forge\n",
      "    toolz-0.10.0               |             py_0          46 KB  conda-forge\n",
      "    vincent-0.4.4              |             py_1          28 KB  conda-forge\n",
      "    ------------------------------------------------------------\n",
      "                                           Total:        12.0 MB\n",
      "\n",
      "The following NEW packages will be INSTALLED:\n",
      "\n",
      "  altair             conda-forge/noarch::altair-4.1.0-py_1\n",
      "  attrs              conda-forge/noarch::attrs-19.3.0-py_0\n",
      "  branca             conda-forge/noarch::branca-0.4.1-py_0\n",
      "  brotlipy           conda-forge/linux-64::brotlipy-0.7.0-py36h8c4c3a4_1000\n",
      "  chardet            conda-forge/linux-64::chardet-3.0.4-py36h9f0ad1d_1006\n",
      "  cryptography       conda-forge/linux-64::cryptography-2.9.2-py36h45558ae_0\n",
      "  entrypoints        conda-forge/linux-64::entrypoints-0.3-py36h9f0ad1d_1001\n",
      "  folium             conda-forge/noarch::folium-0.5.0-py_0\n",
      "  idna               conda-forge/noarch::idna-2.9-py_1\n",
      "  importlib_metadata conda-forge/noarch::importlib_metadata-1.6.0-0\n",
      "  jinja2             conda-forge/noarch::jinja2-2.11.2-pyh9f0ad1d_0\n",
      "  jsonschema         conda-forge/linux-64::jsonschema-3.2.0-py36h9f0ad1d_1\n",
      "  markupsafe         conda-forge/linux-64::markupsafe-1.1.1-py36h8c4c3a4_1\n",
      "  pandas             conda-forge/linux-64::pandas-1.0.4-py36h830a2c2_0\n",
      "  pyopenssl          conda-forge/noarch::pyopenssl-19.1.0-py_1\n",
      "  pyrsistent         conda-forge/linux-64::pyrsistent-0.16.0-py36h8c4c3a4_0\n",
      "  pysocks            conda-forge/linux-64::pysocks-1.7.1-py36h9f0ad1d_1\n",
      "  pytz               conda-forge/noarch::pytz-2020.1-pyh9f0ad1d_0\n",
      "  requests           conda-forge/noarch::requests-2.23.0-pyh8c360ce_2\n",
      "  toolz              conda-forge/noarch::toolz-0.10.0-py_0\n",
      "  urllib3            conda-forge/noarch::urllib3-1.25.9-py_0\n",
      "  vincent            conda-forge/noarch::vincent-0.4.4-py_1\n",
      "\n",
      "\n",
      "\n",
      "Downloading and Extracting Packages\n",
      "pysocks-1.7.1        | 27 KB     | ##################################### | 100% \n",
      "toolz-0.10.0         | 46 KB     | ##################################### | 100% \n",
      "chardet-3.0.4        | 188 KB    | ##################################### | 100% \n",
      "pandas-1.0.4         | 10.1 MB   | ##################################### | 100% \n",
      "folium-0.5.0         | 45 KB     | ##################################### | 100% \n",
      "branca-0.4.1         | 26 KB     | ##################################### | 100% \n",
      "cryptography-2.9.2   | 613 KB    | ##################################### | 100% \n",
      "brotlipy-0.7.0       | 346 KB    | ##################################### | 100% \n",
      "altair-4.1.0         | 614 KB    | ##################################### | 100% \n",
      "vincent-0.4.4        | 28 KB     | ##################################### | 100% \n",
      "Preparing transaction: done\n",
      "Verifying transaction: done\n",
      "Executing transaction: done\n",
      "Libraries imported.\n"
     ]
    }
   ],
   "source": [
    "#First, we need to import all dependencies\n",
    "import numpy as np \n",
    "import pandas as pd \n",
    "pd.set_option('display.max_columns', None)\n",
    "pd.set_option('display.max_rows', None)\n",
    "import json # library to handle JSON files\n",
    "\n",
    "!conda install -c conda-forge geopy --yes \n",
    "from geopy.geocoders import Nominatim \n",
    "\n",
    "import requests # library to handle requests\n",
    "from pandas.io.json import json_normalize # tranform JSON file into a pandas dataframe\n",
    "\n",
    "# Matplotlib and associated plotting modules\n",
    "import matplotlib.cm as cm\n",
    "import matplotlib.colors as colors\n",
    "\n",
    "# import k-means from clustering stage\n",
    "from sklearn.cluster import KMeans\n",
    "\n",
    "!conda install -c conda-forge folium=0.5.0 --yes \n",
    "import folium # map rendering library\n",
    "\n",
    "print('Libraries imported.')"
   ]
  },
  {
   "cell_type": "markdown",
   "metadata": {},
   "source": [
    "### Crimes dataset"
   ]
  },
  {
   "cell_type": "code",
   "execution_count": 2,
   "metadata": {},
   "outputs": [
    {
     "name": "stderr",
     "output_type": "stream",
     "text": [
      "/home/jupyterlab/conda/envs/python/lib/python3.6/site-packages/IPython/core/interactiveshell.py:3063: DtypeWarning: Columns (7) have mixed types.Specify dtype option on import or set low_memory=False.\n",
      "  interactivity=interactivity, compiler=compiler, result=result)\n"
     ]
    },
    {
     "data": {
      "text/html": [
       "<div>\n",
       "<style scoped>\n",
       "    .dataframe tbody tr th:only-of-type {\n",
       "        vertical-align: middle;\n",
       "    }\n",
       "\n",
       "    .dataframe tbody tr th {\n",
       "        vertical-align: top;\n",
       "    }\n",
       "\n",
       "    .dataframe thead th {\n",
       "        text-align: right;\n",
       "    }\n",
       "</style>\n",
       "<table border=\"1\" class=\"dataframe\">\n",
       "  <thead>\n",
       "    <tr style=\"text-align: right;\">\n",
       "      <th></th>\n",
       "      <th>CrimeDate</th>\n",
       "      <th>CrimeTime</th>\n",
       "      <th>CrimeCode</th>\n",
       "      <th>Location</th>\n",
       "      <th>Description</th>\n",
       "      <th>Inside/Outside</th>\n",
       "      <th>Weapon</th>\n",
       "      <th>Post</th>\n",
       "      <th>District</th>\n",
       "      <th>Neighborhood</th>\n",
       "      <th>Longitude</th>\n",
       "      <th>Latitude</th>\n",
       "      <th>Location 1</th>\n",
       "      <th>Premise</th>\n",
       "      <th>vri_name1</th>\n",
       "      <th>Total Incidents</th>\n",
       "    </tr>\n",
       "  </thead>\n",
       "  <tbody>\n",
       "    <tr>\n",
       "      <th>0</th>\n",
       "      <td>05/30/2020</td>\n",
       "      <td>18:18:00</td>\n",
       "      <td>4E</td>\n",
       "      <td>1200 MCCULLOH ST</td>\n",
       "      <td>COMMON ASSAULT</td>\n",
       "      <td>I</td>\n",
       "      <td>NaN</td>\n",
       "      <td>123</td>\n",
       "      <td>CENTRAL</td>\n",
       "      <td>UPTON</td>\n",
       "      <td>-76.627035</td>\n",
       "      <td>39.301886</td>\n",
       "      <td>NaN</td>\n",
       "      <td>ROW/TOWNHOUSE-OCC</td>\n",
       "      <td>NaN</td>\n",
       "      <td>1</td>\n",
       "    </tr>\n",
       "    <tr>\n",
       "      <th>1</th>\n",
       "      <td>05/30/2020</td>\n",
       "      <td>18:35:00</td>\n",
       "      <td>5A</td>\n",
       "      <td>1000 N PATTERSON PARK AVE</td>\n",
       "      <td>BURGLARY</td>\n",
       "      <td>I</td>\n",
       "      <td>NaN</td>\n",
       "      <td>322</td>\n",
       "      <td>EASTERN</td>\n",
       "      <td>MIDDLE EAST</td>\n",
       "      <td>-76.585380</td>\n",
       "      <td>39.301852</td>\n",
       "      <td>NaN</td>\n",
       "      <td>ROW/TOWNHOUSE-OCC</td>\n",
       "      <td>Eastern 2</td>\n",
       "      <td>1</td>\n",
       "    </tr>\n",
       "    <tr>\n",
       "      <th>2</th>\n",
       "      <td>05/30/2020</td>\n",
       "      <td>17:50:00</td>\n",
       "      <td>4E</td>\n",
       "      <td>4800 GWYNN OAK AVE</td>\n",
       "      <td>COMMON ASSAULT</td>\n",
       "      <td>I</td>\n",
       "      <td>NaN</td>\n",
       "      <td>622</td>\n",
       "      <td>NORTHWEST</td>\n",
       "      <td>HOWARD PARK</td>\n",
       "      <td>-76.697653</td>\n",
       "      <td>39.330594</td>\n",
       "      <td>NaN</td>\n",
       "      <td>ROW/TOWNHOUSE-OCC</td>\n",
       "      <td>NaN</td>\n",
       "      <td>1</td>\n",
       "    </tr>\n",
       "    <tr>\n",
       "      <th>3</th>\n",
       "      <td>05/30/2020</td>\n",
       "      <td>02:14:00</td>\n",
       "      <td>4E</td>\n",
       "      <td>3000 GRANTLEY AVE</td>\n",
       "      <td>COMMON ASSAULT</td>\n",
       "      <td>I</td>\n",
       "      <td>NaN</td>\n",
       "      <td>613</td>\n",
       "      <td>NORTHWEST</td>\n",
       "      <td>TOWANDA-GRANTLEY</td>\n",
       "      <td>-76.669235</td>\n",
       "      <td>39.336714</td>\n",
       "      <td>NaN</td>\n",
       "      <td>ROW/TOWNHOUSE-OCC</td>\n",
       "      <td>NaN</td>\n",
       "      <td>1</td>\n",
       "    </tr>\n",
       "    <tr>\n",
       "      <th>4</th>\n",
       "      <td>05/30/2020</td>\n",
       "      <td>16:20:00</td>\n",
       "      <td>6J</td>\n",
       "      <td>YORK RD &amp; MONTPELIER ST</td>\n",
       "      <td>LARCENY</td>\n",
       "      <td>O</td>\n",
       "      <td>NaN</td>\n",
       "      <td>513</td>\n",
       "      <td>NORTHERN</td>\n",
       "      <td>NaN</td>\n",
       "      <td>-76.608855</td>\n",
       "      <td>39.326454</td>\n",
       "      <td>NaN</td>\n",
       "      <td>STREET</td>\n",
       "      <td>NaN</td>\n",
       "      <td>1</td>\n",
       "    </tr>\n",
       "  </tbody>\n",
       "</table>\n",
       "</div>"
      ],
      "text/plain": [
       "    CrimeDate CrimeTime CrimeCode                   Location     Description  \\\n",
       "0  05/30/2020  18:18:00        4E           1200 MCCULLOH ST  COMMON ASSAULT   \n",
       "1  05/30/2020  18:35:00        5A  1000 N PATTERSON PARK AVE        BURGLARY   \n",
       "2  05/30/2020  17:50:00        4E         4800 GWYNN OAK AVE  COMMON ASSAULT   \n",
       "3  05/30/2020  02:14:00        4E          3000 GRANTLEY AVE  COMMON ASSAULT   \n",
       "4  05/30/2020  16:20:00        6J    YORK RD & MONTPELIER ST         LARCENY   \n",
       "\n",
       "  Inside/Outside Weapon Post   District      Neighborhood  Longitude  \\\n",
       "0              I    NaN  123    CENTRAL             UPTON -76.627035   \n",
       "1              I    NaN  322    EASTERN       MIDDLE EAST -76.585380   \n",
       "2              I    NaN  622  NORTHWEST       HOWARD PARK -76.697653   \n",
       "3              I    NaN  613  NORTHWEST  TOWANDA-GRANTLEY -76.669235   \n",
       "4              O    NaN  513   NORTHERN               NaN -76.608855   \n",
       "\n",
       "    Latitude  Location 1            Premise  vri_name1  Total Incidents  \n",
       "0  39.301886         NaN  ROW/TOWNHOUSE-OCC        NaN                1  \n",
       "1  39.301852         NaN  ROW/TOWNHOUSE-OCC  Eastern 2                1  \n",
       "2  39.330594         NaN  ROW/TOWNHOUSE-OCC        NaN                1  \n",
       "3  39.336714         NaN  ROW/TOWNHOUSE-OCC        NaN                1  \n",
       "4  39.326454         NaN             STREET        NaN                1  "
      ]
     },
     "execution_count": 2,
     "metadata": {},
     "output_type": "execute_result"
    }
   ],
   "source": [
    "#read crimes dataset\n",
    "df_crimes = pd.read_csv('https://data.baltimorecity.gov/api/views/wsfq-mvij/rows.csv?accessType=DOWNLOAD')\n",
    "df_crimes.head()"
   ]
  },
  {
   "cell_type": "code",
   "execution_count": 3,
   "metadata": {},
   "outputs": [],
   "source": [
    "#we need only 2 columns\n",
    "df_crimes=df_crimes[['CrimeDate','Neighborhood']]"
   ]
  },
  {
   "cell_type": "code",
   "execution_count": 4,
   "metadata": {},
   "outputs": [
    {
     "name": "stdout",
     "output_type": "stream",
     "text": [
      "CrimeDate       object\n",
      "Neighborhood    object\n",
      "dtype: object\n"
     ]
    }
   ],
   "source": [
    "print(df_crimes.dtypes)"
   ]
  },
  {
   "cell_type": "code",
   "execution_count": 5,
   "metadata": {},
   "outputs": [],
   "source": [
    "#CrimeDate is an object. We need to convert it to datetime\n",
    "df_crimes['CrimeDate'] = df_crimes['CrimeDate'].astype('datetime64[ns]')"
   ]
  },
  {
   "cell_type": "code",
   "execution_count": 6,
   "metadata": {},
   "outputs": [],
   "source": [
    "#We need only current crime situation. Lets keep only last 3 years data\n",
    "df_crimes = df_crimes.loc[df_crimes['CrimeDate'] > '2017-01-01']"
   ]
  },
  {
   "cell_type": "code",
   "execution_count": 7,
   "metadata": {},
   "outputs": [
    {
     "data": {
      "text/plain": [
       "(155562, 2)"
      ]
     },
     "execution_count": 7,
     "metadata": {},
     "output_type": "execute_result"
    }
   ],
   "source": [
    "#time to drop null values\n",
    "df_crimes = df_crimes.dropna()\n",
    "df_crimes.shape"
   ]
  },
  {
   "cell_type": "code",
   "execution_count": 8,
   "metadata": {},
   "outputs": [
    {
     "data": {
      "text/html": [
       "<div>\n",
       "<style scoped>\n",
       "    .dataframe tbody tr th:only-of-type {\n",
       "        vertical-align: middle;\n",
       "    }\n",
       "\n",
       "    .dataframe tbody tr th {\n",
       "        vertical-align: top;\n",
       "    }\n",
       "\n",
       "    .dataframe thead th {\n",
       "        text-align: right;\n",
       "    }\n",
       "</style>\n",
       "<table border=\"1\" class=\"dataframe\">\n",
       "  <thead>\n",
       "    <tr style=\"text-align: right;\">\n",
       "      <th></th>\n",
       "      <th>Neighborhood</th>\n",
       "      <th>CrimeDate</th>\n",
       "    </tr>\n",
       "  </thead>\n",
       "  <tbody>\n",
       "    <tr>\n",
       "      <th>0</th>\n",
       "      <td>4X4</td>\n",
       "      <td>318</td>\n",
       "    </tr>\n",
       "    <tr>\n",
       "      <th>1</th>\n",
       "      <td>ABELL</td>\n",
       "      <td>368</td>\n",
       "    </tr>\n",
       "    <tr>\n",
       "      <th>2</th>\n",
       "      <td>ALLENDALE</td>\n",
       "      <td>969</td>\n",
       "    </tr>\n",
       "    <tr>\n",
       "      <th>3</th>\n",
       "      <td>ARCADIA</td>\n",
       "      <td>161</td>\n",
       "    </tr>\n",
       "    <tr>\n",
       "      <th>4</th>\n",
       "      <td>ARLINGTON</td>\n",
       "      <td>692</td>\n",
       "    </tr>\n",
       "  </tbody>\n",
       "</table>\n",
       "</div>"
      ],
      "text/plain": [
       "  Neighborhood  CrimeDate\n",
       "0          4X4        318\n",
       "1        ABELL        368\n",
       "2    ALLENDALE        969\n",
       "3      ARCADIA        161\n",
       "4    ARLINGTON        692"
      ]
     },
     "execution_count": 8,
     "metadata": {},
     "output_type": "execute_result"
    }
   ],
   "source": [
    "#Lets count crimes by neighborhoods\n",
    "df_crimes_grouped = df_crimes.groupby('Neighborhood',as_index = False).count()\n",
    "df_crimes_grouped.head()"
   ]
  },
  {
   "cell_type": "markdown",
   "metadata": {},
   "source": [
    "### Population and coordinates dataset"
   ]
  },
  {
   "cell_type": "code",
   "execution_count": 9,
   "metadata": {},
   "outputs": [
    {
     "data": {
      "text/html": [
       "<div>\n",
       "<style scoped>\n",
       "    .dataframe tbody tr th:only-of-type {\n",
       "        vertical-align: middle;\n",
       "    }\n",
       "\n",
       "    .dataframe tbody tr th {\n",
       "        vertical-align: top;\n",
       "    }\n",
       "\n",
       "    .dataframe thead th {\n",
       "        text-align: right;\n",
       "    }\n",
       "</style>\n",
       "<table border=\"1\" class=\"dataframe\">\n",
       "  <thead>\n",
       "    <tr style=\"text-align: right;\">\n",
       "      <th></th>\n",
       "      <th>Neighborhood</th>\n",
       "      <th>Population</th>\n",
       "      <th>the_geom</th>\n",
       "    </tr>\n",
       "  </thead>\n",
       "  <tbody>\n",
       "    <tr>\n",
       "      <th>0</th>\n",
       "      <td>ABELL</td>\n",
       "      <td>889.0</td>\n",
       "      <td>MULTIPOLYGON (((-76.61113021264933 39.32343829...</td>\n",
       "    </tr>\n",
       "    <tr>\n",
       "      <th>1</th>\n",
       "      <td>ALLENDALE</td>\n",
       "      <td>3554.0</td>\n",
       "      <td>MULTIPOLYGON (((-76.67262514014695 39.29183630...</td>\n",
       "    </tr>\n",
       "    <tr>\n",
       "      <th>2</th>\n",
       "      <td>ARCADIA</td>\n",
       "      <td>1235.0</td>\n",
       "      <td>MULTIPOLYGON (((-76.56852496130239 39.33594331...</td>\n",
       "    </tr>\n",
       "    <tr>\n",
       "      <th>3</th>\n",
       "      <td>BOYD-BOOTH</td>\n",
       "      <td>822.0</td>\n",
       "      <td>MULTIPOLYGON (((-76.65153098537668 39.28642992...</td>\n",
       "    </tr>\n",
       "    <tr>\n",
       "      <th>4</th>\n",
       "      <td>ARLINGTON</td>\n",
       "      <td>2598.0</td>\n",
       "      <td>MULTIPOLYGON (((-76.68626338505344 39.34790493...</td>\n",
       "    </tr>\n",
       "  </tbody>\n",
       "</table>\n",
       "</div>"
      ],
      "text/plain": [
       "  Neighborhood  Population                                           the_geom\n",
       "0        ABELL       889.0  MULTIPOLYGON (((-76.61113021264933 39.32343829...\n",
       "1    ALLENDALE      3554.0  MULTIPOLYGON (((-76.67262514014695 39.29183630...\n",
       "2      ARCADIA      1235.0  MULTIPOLYGON (((-76.56852496130239 39.33594331...\n",
       "3   BOYD-BOOTH       822.0  MULTIPOLYGON (((-76.65153098537668 39.28642992...\n",
       "4    ARLINGTON      2598.0  MULTIPOLYGON (((-76.68626338505344 39.34790493..."
      ]
     },
     "execution_count": 9,
     "metadata": {},
     "output_type": "execute_result"
    }
   ],
   "source": [
    "df_population = pd.read_csv('https://query.data.world/s/d2f7awf7nlopf4afgl3el47ghm6dv7') #read dataset\n",
    "df_population = df_population[['Name','Population','the_geom']] #we need only 3 columns\n",
    "df_population['Name'] = df_population['Name'].str.upper() #make neighborhoods names uppercase to merge with crimes dataset\n",
    "df_population.rename(columns={'Name': 'Neighborhood'}, inplace = True) #rename neighborhood names columm\n",
    "df_population.head()"
   ]
  },
  {
   "cell_type": "code",
   "execution_count": 10,
   "metadata": {},
   "outputs": [
    {
     "data": {
      "text/html": [
       "<div>\n",
       "<style scoped>\n",
       "    .dataframe tbody tr th:only-of-type {\n",
       "        vertical-align: middle;\n",
       "    }\n",
       "\n",
       "    .dataframe tbody tr th {\n",
       "        vertical-align: top;\n",
       "    }\n",
       "\n",
       "    .dataframe thead th {\n",
       "        text-align: right;\n",
       "    }\n",
       "</style>\n",
       "<table border=\"1\" class=\"dataframe\">\n",
       "  <thead>\n",
       "    <tr style=\"text-align: right;\">\n",
       "      <th></th>\n",
       "      <th>Neighborhood</th>\n",
       "      <th>CrimeDate</th>\n",
       "      <th>Population</th>\n",
       "      <th>the_geom</th>\n",
       "    </tr>\n",
       "  </thead>\n",
       "  <tbody>\n",
       "    <tr>\n",
       "      <th>1</th>\n",
       "      <td>ABELL</td>\n",
       "      <td>368.0</td>\n",
       "      <td>889.0</td>\n",
       "      <td>MULTIPOLYGON (((-76.61113021264933 39.32343829...</td>\n",
       "    </tr>\n",
       "    <tr>\n",
       "      <th>2</th>\n",
       "      <td>ALLENDALE</td>\n",
       "      <td>969.0</td>\n",
       "      <td>3554.0</td>\n",
       "      <td>MULTIPOLYGON (((-76.67262514014695 39.29183630...</td>\n",
       "    </tr>\n",
       "    <tr>\n",
       "      <th>3</th>\n",
       "      <td>ARCADIA</td>\n",
       "      <td>161.0</td>\n",
       "      <td>1235.0</td>\n",
       "      <td>MULTIPOLYGON (((-76.56852496130239 39.33594331...</td>\n",
       "    </tr>\n",
       "    <tr>\n",
       "      <th>4</th>\n",
       "      <td>ARLINGTON</td>\n",
       "      <td>692.0</td>\n",
       "      <td>2598.0</td>\n",
       "      <td>MULTIPOLYGON (((-76.68626338505344 39.34790493...</td>\n",
       "    </tr>\n",
       "    <tr>\n",
       "      <th>5</th>\n",
       "      <td>ARMISTEAD GARDENS</td>\n",
       "      <td>582.0</td>\n",
       "      <td>3458.0</td>\n",
       "      <td>MULTIPOLYGON (((-76.55879992777896 39.30645665...</td>\n",
       "    </tr>\n",
       "  </tbody>\n",
       "</table>\n",
       "</div>"
      ],
      "text/plain": [
       "        Neighborhood  CrimeDate  Population  \\\n",
       "1              ABELL      368.0       889.0   \n",
       "2          ALLENDALE      969.0      3554.0   \n",
       "3            ARCADIA      161.0      1235.0   \n",
       "4          ARLINGTON      692.0      2598.0   \n",
       "5  ARMISTEAD GARDENS      582.0      3458.0   \n",
       "\n",
       "                                            the_geom  \n",
       "1  MULTIPOLYGON (((-76.61113021264933 39.32343829...  \n",
       "2  MULTIPOLYGON (((-76.67262514014695 39.29183630...  \n",
       "3  MULTIPOLYGON (((-76.56852496130239 39.33594331...  \n",
       "4  MULTIPOLYGON (((-76.68626338505344 39.34790493...  \n",
       "5  MULTIPOLYGON (((-76.55879992777896 39.30645665...  "
      ]
     },
     "execution_count": 10,
     "metadata": {},
     "output_type": "execute_result"
    }
   ],
   "source": [
    "#time to merge two datasets\n",
    "df_merged=pd.merge(df_crimes_grouped,df_population,how=\"outer\",on=\"Neighborhood\")\n",
    "df_merged=df_merged.dropna()  #drop NA values\n",
    "df_merged.head()"
   ]
  },
  {
   "cell_type": "markdown",
   "metadata": {},
   "source": [
    "### Cleaning and preparing merged dataset"
   ]
  },
  {
   "cell_type": "code",
   "execution_count": 11,
   "metadata": {},
   "outputs": [],
   "source": [
    "df_merged = df_merged[(df_merged != 0).all(1)] #drop zero values\n",
    "df_merged = df_merged[df_merged['Population'] > 499] #we are not interested in neighborhoods with less than 500 tenants\n",
    "#Crimes per population shows safety level of a neighborhood better than just number of crimes \n",
    "df_merged['Crimes per 1 person'] = df_merged['CrimeDate'] / df_merged['Population']\n",
    "df_merged = df_merged.sort_values(by= ['Crimes per 1 person'], ascending = False)\n",
    "df_merged.rename(columns={'the_geom': 'Coordinates'}, inplace = True)\n",
    "#Making new columns Latitude and Longitude out of initial coordinates column\n",
    "df_merged['Coordinates'] = df_merged['Coordinates'].map(lambda x: x.lstrip('MULTIPOLYGON ((('))\n",
    "df_merged['Coordinates'] = df_merged['Coordinates'].str[:35]\n",
    "df_merged[['Longitude','Latitude']] = df_merged['Coordinates'].str.split(' ', expand=True)"
   ]
  },
  {
   "cell_type": "code",
   "execution_count": 12,
   "metadata": {},
   "outputs": [
    {
     "data": {
      "text/html": [
       "<div>\n",
       "<style scoped>\n",
       "    .dataframe tbody tr th:only-of-type {\n",
       "        vertical-align: middle;\n",
       "    }\n",
       "\n",
       "    .dataframe tbody tr th {\n",
       "        vertical-align: top;\n",
       "    }\n",
       "\n",
       "    .dataframe thead th {\n",
       "        text-align: right;\n",
       "    }\n",
       "</style>\n",
       "<table border=\"1\" class=\"dataframe\">\n",
       "  <thead>\n",
       "    <tr style=\"text-align: right;\">\n",
       "      <th></th>\n",
       "      <th>Neighborhood</th>\n",
       "      <th>Population</th>\n",
       "      <th>Crimes per 1 person</th>\n",
       "      <th>Latitude</th>\n",
       "      <th>Longitude</th>\n",
       "    </tr>\n",
       "  </thead>\n",
       "  <tbody>\n",
       "    <tr>\n",
       "      <th>122</th>\n",
       "      <td>INNER HARBOR</td>\n",
       "      <td>1484.0</td>\n",
       "      <td>1.580863</td>\n",
       "      <td>39.2843612174191</td>\n",
       "      <td>-76.61332268206179</td>\n",
       "    </tr>\n",
       "    <tr>\n",
       "      <th>66</th>\n",
       "      <td>DOWNTOWN</td>\n",
       "      <td>4448.0</td>\n",
       "      <td>1.218525</td>\n",
       "      <td>39.2894922456335</td>\n",
       "      <td>-76.60549025746245</td>\n",
       "    </tr>\n",
       "    <tr>\n",
       "      <th>157</th>\n",
       "      <td>MIDDLE EAST</td>\n",
       "      <td>1484.0</td>\n",
       "      <td>1.042453</td>\n",
       "      <td>39.29872242913879</td>\n",
       "      <td>-76.5851275142668</td>\n",
       "    </tr>\n",
       "    <tr>\n",
       "      <th>45</th>\n",
       "      <td>CHARLES NORTH</td>\n",
       "      <td>1059.0</td>\n",
       "      <td>0.891407</td>\n",
       "      <td>39.3142726593081</td>\n",
       "      <td>-76.61571455479564</td>\n",
       "    </tr>\n",
       "    <tr>\n",
       "      <th>207</th>\n",
       "      <td>REISTERSTOWN STATION</td>\n",
       "      <td>1968.0</td>\n",
       "      <td>0.634654</td>\n",
       "      <td>39.3512380859961</td>\n",
       "      <td>-76.70885511420639</td>\n",
       "    </tr>\n",
       "  </tbody>\n",
       "</table>\n",
       "</div>"
      ],
      "text/plain": [
       "             Neighborhood  Population  Crimes per 1 person           Latitude  \\\n",
       "122          INNER HARBOR      1484.0             1.580863   39.2843612174191   \n",
       "66               DOWNTOWN      4448.0             1.218525   39.2894922456335   \n",
       "157           MIDDLE EAST      1484.0             1.042453  39.29872242913879   \n",
       "45          CHARLES NORTH      1059.0             0.891407   39.3142726593081   \n",
       "207  REISTERSTOWN STATION      1968.0             0.634654   39.3512380859961   \n",
       "\n",
       "              Longitude  \n",
       "122  -76.61332268206179  \n",
       "66   -76.60549025746245  \n",
       "157   -76.5851275142668  \n",
       "45   -76.61571455479564  \n",
       "207  -76.70885511420639  "
      ]
     },
     "execution_count": 12,
     "metadata": {},
     "output_type": "execute_result"
    }
   ],
   "source": [
    "#drop unneeded columns\n",
    "df_merged = df_merged[['Neighborhood','Population','Crimes per 1 person','Latitude','Longitude']]\n",
    "df_merged.head()"
   ]
  },
  {
   "cell_type": "markdown",
   "metadata": {},
   "source": [
    "### Baltimore rent prices dataset"
   ]
  },
  {
   "cell_type": "code",
   "execution_count": 13,
   "metadata": {},
   "outputs": [
    {
     "data": {
      "text/html": [
       "<div>\n",
       "<style scoped>\n",
       "    .dataframe tbody tr th:only-of-type {\n",
       "        vertical-align: middle;\n",
       "    }\n",
       "\n",
       "    .dataframe tbody tr th {\n",
       "        vertical-align: top;\n",
       "    }\n",
       "\n",
       "    .dataframe thead th {\n",
       "        text-align: right;\n",
       "    }\n",
       "</style>\n",
       "<table border=\"1\" class=\"dataframe\">\n",
       "  <thead>\n",
       "    <tr style=\"text-align: right;\">\n",
       "      <th></th>\n",
       "      <th>Neighborhood</th>\n",
       "      <th>price</th>\n",
       "    </tr>\n",
       "  </thead>\n",
       "  <tbody>\n",
       "    <tr>\n",
       "      <th>0</th>\n",
       "      <td>Abell</td>\n",
       "      <td>1445</td>\n",
       "    </tr>\n",
       "    <tr>\n",
       "      <th>1</th>\n",
       "      <td>Allendale</td>\n",
       "      <td>956</td>\n",
       "    </tr>\n",
       "    <tr>\n",
       "      <th>2</th>\n",
       "      <td>Arcadia</td>\n",
       "      <td>916</td>\n",
       "    </tr>\n",
       "    <tr>\n",
       "      <th>3</th>\n",
       "      <td>Arlington</td>\n",
       "      <td>1001</td>\n",
       "    </tr>\n",
       "    <tr>\n",
       "      <th>4</th>\n",
       "      <td>Armistead Gardens</td>\n",
       "      <td>1428</td>\n",
       "    </tr>\n",
       "  </tbody>\n",
       "</table>\n",
       "</div>"
      ],
      "text/plain": [
       "        Neighborhood  price\n",
       "0              Abell   1445\n",
       "1          Allendale    956\n",
       "2            Arcadia    916\n",
       "3          Arlington   1001\n",
       "4  Armistead Gardens   1428"
      ]
     },
     "execution_count": 13,
     "metadata": {},
     "output_type": "execute_result"
    }
   ],
   "source": [
    "df_rent = pd.read_excel(\"Rent Prices.xlsx\") #read Baltimore rent prices dataset\n",
    "df_rent.head()"
   ]
  },
  {
   "cell_type": "code",
   "execution_count": 14,
   "metadata": {},
   "outputs": [
    {
     "data": {
      "text/html": [
       "<div>\n",
       "<style scoped>\n",
       "    .dataframe tbody tr th:only-of-type {\n",
       "        vertical-align: middle;\n",
       "    }\n",
       "\n",
       "    .dataframe tbody tr th {\n",
       "        vertical-align: top;\n",
       "    }\n",
       "\n",
       "    .dataframe thead th {\n",
       "        text-align: right;\n",
       "    }\n",
       "</style>\n",
       "<table border=\"1\" class=\"dataframe\">\n",
       "  <thead>\n",
       "    <tr style=\"text-align: right;\">\n",
       "      <th></th>\n",
       "      <th>Neighborhood</th>\n",
       "      <th>Rent Price</th>\n",
       "    </tr>\n",
       "  </thead>\n",
       "  <tbody>\n",
       "    <tr>\n",
       "      <th>0</th>\n",
       "      <td>ABELL</td>\n",
       "      <td>1445</td>\n",
       "    </tr>\n",
       "    <tr>\n",
       "      <th>1</th>\n",
       "      <td>ALLENDALE</td>\n",
       "      <td>956</td>\n",
       "    </tr>\n",
       "    <tr>\n",
       "      <th>2</th>\n",
       "      <td>ARCADIA</td>\n",
       "      <td>916</td>\n",
       "    </tr>\n",
       "    <tr>\n",
       "      <th>3</th>\n",
       "      <td>ARLINGTON</td>\n",
       "      <td>1001</td>\n",
       "    </tr>\n",
       "    <tr>\n",
       "      <th>4</th>\n",
       "      <td>ARMISTEAD GARDENS</td>\n",
       "      <td>1428</td>\n",
       "    </tr>\n",
       "  </tbody>\n",
       "</table>\n",
       "</div>"
      ],
      "text/plain": [
       "        Neighborhood  Rent Price\n",
       "0              ABELL        1445\n",
       "1          ALLENDALE         956\n",
       "2            ARCADIA         916\n",
       "3          ARLINGTON        1001\n",
       "4  ARMISTEAD GARDENS        1428"
      ]
     },
     "execution_count": 14,
     "metadata": {},
     "output_type": "execute_result"
    }
   ],
   "source": [
    "#small dataset preparations before merging\n",
    "df_rent['price'] = df_rent['price'].astype('int') \n",
    "df_rent['Neighborhood'] = df_rent['Neighborhood'].str.upper()\n",
    "df_rent.rename(columns={'price': 'Rent Price'}, inplace = True)\n",
    "df_rent.head()"
   ]
  },
  {
   "cell_type": "code",
   "execution_count": 15,
   "metadata": {},
   "outputs": [],
   "source": [
    "#Adding Baltimore rent prices dataset to the main dataset\n",
    "df_supermerged=pd.merge(df_merged,df_rent,how=\"outer\",on=\"Neighborhood\")\n",
    "df_supermerged['Latitude'] = df_supermerged['Latitude'].str[:14]\n",
    "df_supermerged = df_supermerged.dropna()"
   ]
  },
  {
   "cell_type": "code",
   "execution_count": 16,
   "metadata": {},
   "outputs": [
    {
     "data": {
      "text/html": [
       "<div>\n",
       "<style scoped>\n",
       "    .dataframe tbody tr th:only-of-type {\n",
       "        vertical-align: middle;\n",
       "    }\n",
       "\n",
       "    .dataframe tbody tr th {\n",
       "        vertical-align: top;\n",
       "    }\n",
       "\n",
       "    .dataframe thead th {\n",
       "        text-align: right;\n",
       "    }\n",
       "</style>\n",
       "<table border=\"1\" class=\"dataframe\">\n",
       "  <thead>\n",
       "    <tr style=\"text-align: right;\">\n",
       "      <th></th>\n",
       "      <th>Neighborhood</th>\n",
       "      <th>Population</th>\n",
       "      <th>Crimes per 1 person</th>\n",
       "      <th>Latitude</th>\n",
       "      <th>Longitude</th>\n",
       "      <th>Rent Price</th>\n",
       "    </tr>\n",
       "  </thead>\n",
       "  <tbody>\n",
       "    <tr>\n",
       "      <th>0</th>\n",
       "      <td>INNER HARBOR</td>\n",
       "      <td>1484.0</td>\n",
       "      <td>1.580863</td>\n",
       "      <td>39.284361</td>\n",
       "      <td>-76.613323</td>\n",
       "      <td>1792.0</td>\n",
       "    </tr>\n",
       "    <tr>\n",
       "      <th>1</th>\n",
       "      <td>DOWNTOWN</td>\n",
       "      <td>4448.0</td>\n",
       "      <td>1.218525</td>\n",
       "      <td>39.289492</td>\n",
       "      <td>-76.605490</td>\n",
       "      <td>1582.0</td>\n",
       "    </tr>\n",
       "    <tr>\n",
       "      <th>2</th>\n",
       "      <td>MIDDLE EAST</td>\n",
       "      <td>1484.0</td>\n",
       "      <td>1.042453</td>\n",
       "      <td>39.298722</td>\n",
       "      <td>-76.585128</td>\n",
       "      <td>1408.0</td>\n",
       "    </tr>\n",
       "    <tr>\n",
       "      <th>3</th>\n",
       "      <td>CHARLES NORTH</td>\n",
       "      <td>1059.0</td>\n",
       "      <td>0.891407</td>\n",
       "      <td>39.314273</td>\n",
       "      <td>-76.615715</td>\n",
       "      <td>1551.0</td>\n",
       "    </tr>\n",
       "    <tr>\n",
       "      <th>4</th>\n",
       "      <td>REISTERSTOWN STATION</td>\n",
       "      <td>1968.0</td>\n",
       "      <td>0.634654</td>\n",
       "      <td>39.351238</td>\n",
       "      <td>-76.708855</td>\n",
       "      <td>1001.0</td>\n",
       "    </tr>\n",
       "  </tbody>\n",
       "</table>\n",
       "</div>"
      ],
      "text/plain": [
       "           Neighborhood  Population  Crimes per 1 person   Latitude  \\\n",
       "0          INNER HARBOR      1484.0             1.580863  39.284361   \n",
       "1              DOWNTOWN      4448.0             1.218525  39.289492   \n",
       "2           MIDDLE EAST      1484.0             1.042453  39.298722   \n",
       "3         CHARLES NORTH      1059.0             0.891407  39.314273   \n",
       "4  REISTERSTOWN STATION      1968.0             0.634654  39.351238   \n",
       "\n",
       "   Longitude  Rent Price  \n",
       "0 -76.613323      1792.0  \n",
       "1 -76.605490      1582.0  \n",
       "2 -76.585128      1408.0  \n",
       "3 -76.615715      1551.0  \n",
       "4 -76.708855      1001.0  "
      ]
     },
     "execution_count": 16,
     "metadata": {},
     "output_type": "execute_result"
    }
   ],
   "source": [
    "#Changing coordinate columns type from string to float\n",
    "df_supermerged['Latitude'] = df_supermerged['Latitude'].astype(float)\n",
    "df_supermerged['Longitude'] = df_supermerged['Longitude'].astype(float)\n",
    "df_supermerged.head()"
   ]
  },
  {
   "cell_type": "markdown",
   "metadata": {},
   "source": [
    "## 4. Methodology / Modelling"
   ]
  },
  {
   "cell_type": "markdown",
   "metadata": {},
   "source": [
    "My initial plan was to 1. Use Foursquare API to get the information about number of venues per neighborhood 2. Use k-means clustering to cluster neighborhoods in purpose to get cluster with low rent prices and crimes per person and high number of venues, that is evidence of high foot traffic of neighborhood.\n",
    "\n",
    "Unfortunately, Foursquare API doesnt work properly and is not able to get data for almost 200 neighborhoods without errors. Thats why I decided 1.to cluster my current dataset to choose the most suitable cluster 2. Use Foursquare API for chosen cluster only 3. Finally, select from this cluster a few neighborhoods with a lot of venues around\n",
    "\n",
    "So, its time for K-means clustering. However, firstly we need to normalize values and define the right K - number of clusters"
   ]
  },
  {
   "cell_type": "code",
   "execution_count": 17,
   "metadata": {},
   "outputs": [],
   "source": [
    "from sklearn.preprocessing import MinMaxScaler\n",
    "from sklearn.cluster import KMeans\n",
    "import matplotlib.pyplot as plt"
   ]
  },
  {
   "cell_type": "code",
   "execution_count": 18,
   "metadata": {},
   "outputs": [],
   "source": [
    "#Using MinMaxScaler to normalize values in different columns\n",
    "df_clustering = df_supermerged.drop(['Neighborhood','Latitude','Longitude'], 1)\n",
    "mms = MinMaxScaler()\n",
    "mms.fit(df_clustering)\n",
    "data_transformed = mms.transform(df_clustering)"
   ]
  },
  {
   "cell_type": "code",
   "execution_count": 19,
   "metadata": {},
   "outputs": [],
   "source": [
    "#Defining the right value for K - number of clusters. We are using Elbow Method\n",
    "Sum_of_squared_distances = []\n",
    "K = range(1,15)\n",
    "for k in K:\n",
    "    km = KMeans(n_clusters=k)\n",
    "    km = km.fit(data_transformed)\n",
    "    Sum_of_squared_distances.append(km.inertia_)"
   ]
  },
  {
   "cell_type": "code",
   "execution_count": 20,
   "metadata": {},
   "outputs": [
    {
     "data": {
      "image/png": "[encoded data removed]",
      "text/plain": [
       "<Figure size 432x288 with 1 Axes>"
      ]
     },
     "metadata": {
      "needs_background": "light"
     },
     "output_type": "display_data"
    }
   ],
   "source": [
    "#PLot elbow method graph\n",
    "plt.plot(K, Sum_of_squared_distances, 'bx-')\n",
    "plt.xlabel('k')\n",
    "plt.ylabel('Sum_of_squared_distances')\n",
    "plt.title('Elbow Method For Optimal k')\n",
    "plt.show()"
   ]
  },
  {
   "cell_type": "code",
   "execution_count": 21,
   "metadata": {},
   "outputs": [],
   "source": [
    "# Elbow method suggests to use 2 clusters, but im afraid that Foursquare API will not be able to work with such big clusters. So, lets set K=3\n",
    "kclusters = 3"
   ]
  },
  {
   "cell_type": "code",
   "execution_count": 22,
   "metadata": {},
   "outputs": [
    {
     "data": {
      "text/plain": [
       "array([2, 2, 2, 2, 1, 1, 2, 1, 2, 2], dtype=int32)"
      ]
     },
     "execution_count": 22,
     "metadata": {},
     "output_type": "execute_result"
    }
   ],
   "source": [
    "# run k-means clustering\n",
    "kmeans = KMeans(n_clusters=kclusters, random_state=0).fit(data_transformed)\n",
    "\n",
    "# check cluster labels generated for each row in the dataframe\n",
    "kmeans.labels_[0:10]"
   ]
  },
  {
   "cell_type": "code",
   "execution_count": 23,
   "metadata": {},
   "outputs": [
    {
     "data": {
      "text/html": [
       "<div>\n",
       "<style scoped>\n",
       "    .dataframe tbody tr th:only-of-type {\n",
       "        vertical-align: middle;\n",
       "    }\n",
       "\n",
       "    .dataframe tbody tr th {\n",
       "        vertical-align: top;\n",
       "    }\n",
       "\n",
       "    .dataframe thead th {\n",
       "        text-align: right;\n",
       "    }\n",
       "</style>\n",
       "<table border=\"1\" class=\"dataframe\">\n",
       "  <thead>\n",
       "    <tr style=\"text-align: right;\">\n",
       "      <th></th>\n",
       "      <th>Cluster Labels</th>\n",
       "      <th>Neighborhood</th>\n",
       "      <th>Population</th>\n",
       "      <th>Crimes per 1 person</th>\n",
       "      <th>Latitude</th>\n",
       "      <th>Longitude</th>\n",
       "      <th>Rent Price</th>\n",
       "    </tr>\n",
       "  </thead>\n",
       "  <tbody>\n",
       "    <tr>\n",
       "      <th>0</th>\n",
       "      <td>2</td>\n",
       "      <td>INNER HARBOR</td>\n",
       "      <td>1484.0</td>\n",
       "      <td>1.580863</td>\n",
       "      <td>39.284361</td>\n",
       "      <td>-76.613323</td>\n",
       "      <td>1792.0</td>\n",
       "    </tr>\n",
       "    <tr>\n",
       "      <th>1</th>\n",
       "      <td>2</td>\n",
       "      <td>DOWNTOWN</td>\n",
       "      <td>4448.0</td>\n",
       "      <td>1.218525</td>\n",
       "      <td>39.289492</td>\n",
       "      <td>-76.605490</td>\n",
       "      <td>1582.0</td>\n",
       "    </tr>\n",
       "    <tr>\n",
       "      <th>2</th>\n",
       "      <td>2</td>\n",
       "      <td>MIDDLE EAST</td>\n",
       "      <td>1484.0</td>\n",
       "      <td>1.042453</td>\n",
       "      <td>39.298722</td>\n",
       "      <td>-76.585128</td>\n",
       "      <td>1408.0</td>\n",
       "    </tr>\n",
       "    <tr>\n",
       "      <th>3</th>\n",
       "      <td>2</td>\n",
       "      <td>CHARLES NORTH</td>\n",
       "      <td>1059.0</td>\n",
       "      <td>0.891407</td>\n",
       "      <td>39.314273</td>\n",
       "      <td>-76.615715</td>\n",
       "      <td>1551.0</td>\n",
       "    </tr>\n",
       "    <tr>\n",
       "      <th>4</th>\n",
       "      <td>1</td>\n",
       "      <td>REISTERSTOWN STATION</td>\n",
       "      <td>1968.0</td>\n",
       "      <td>0.634654</td>\n",
       "      <td>39.351238</td>\n",
       "      <td>-76.708855</td>\n",
       "      <td>1001.0</td>\n",
       "    </tr>\n",
       "  </tbody>\n",
       "</table>\n",
       "</div>"
      ],
      "text/plain": [
       "   Cluster Labels          Neighborhood  Population  Crimes per 1 person  \\\n",
       "0               2          INNER HARBOR      1484.0             1.580863   \n",
       "1               2              DOWNTOWN      4448.0             1.218525   \n",
       "2               2           MIDDLE EAST      1484.0             1.042453   \n",
       "3               2         CHARLES NORTH      1059.0             0.891407   \n",
       "4               1  REISTERSTOWN STATION      1968.0             0.634654   \n",
       "\n",
       "    Latitude  Longitude  Rent Price  \n",
       "0  39.284361 -76.613323      1792.0  \n",
       "1  39.289492 -76.605490      1582.0  \n",
       "2  39.298722 -76.585128      1408.0  \n",
       "3  39.314273 -76.615715      1551.0  \n",
       "4  39.351238 -76.708855      1001.0  "
      ]
     },
     "execution_count": 23,
     "metadata": {},
     "output_type": "execute_result"
    }
   ],
   "source": [
    "df_supermerged.insert(0, 'Cluster Labels', kmeans.labels_)\n",
    "df_supermerged.head()"
   ]
  },
  {
   "cell_type": "markdown",
   "metadata": {},
   "source": [
    "#### Mapping clusters"
   ]
  },
  {
   "cell_type": "code",
   "execution_count": 24,
   "metadata": {},
   "outputs": [
    {
     "name": "stdout",
     "output_type": "stream",
     "text": [
      "The geograpical coordinate of Baltimore  are 39.2908816, -76.610759.\n"
     ]
    },
    {
     "data": {
      "text/html": [
       "<div style=\"width:100%;\"><div style=\"position:relative;width:100%;height:0;padding-bottom:60%;\"><span style=\"color:#565656\">Make this Notebook Trusted to load map: File -> Trust Notebook</span><iframe src=\"about:blank\" style=\"position:absolute;width:100%;height:100%;left:0;top:0;border:none !important;\" data-html=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 onload=\"this.contentDocument.open();this.contentDocument.write(atob(this.getAttribute('data-html')));this.contentDocument.close();\" allowfullscreen webkitallowfullscreen mozallowfullscreen></iframe></div></div>"
      ],
      "text/plain": [
       "<folium.folium.Map at 0x7f9fbeca9a90>"
      ]
     },
     "execution_count": 24,
     "metadata": {},
     "output_type": "execute_result"
    }
   ],
   "source": [
    "#First we need to get Baltimore coordinates\n",
    "address = 'Baltimore, MD'\n",
    "\n",
    "geolocator = Nominatim(user_agent=\"baltimore_explorer\")\n",
    "location = geolocator.geocode(address)\n",
    "latitude = location.latitude\n",
    "longitude = location.longitude\n",
    "print('The geograpical coordinate of Baltimore  are {}, {}.'.format(latitude, longitude))\n",
    "\n",
    "# create map\n",
    "map_clusters = folium.Map(location=[latitude, longitude], zoom_start=11)\n",
    "\n",
    "# set color scheme for the clusters\n",
    "x = np.arange(kclusters)\n",
    "ys = [i + x + (i*x)**2 for i in range(kclusters)]\n",
    "colors_array = cm.rainbow(np.linspace(0, 1, len(ys)))\n",
    "rainbow = [colors.rgb2hex(i) for i in colors_array]\n",
    "\n",
    "# add markers to the map\n",
    "markers_colors = []\n",
    "for lat, lon, poi, cluster in zip(df_supermerged['Latitude'], df_supermerged['Longitude'], df_supermerged['Neighborhood'], df_supermerged['Cluster Labels']):\n",
    "    label = folium.Popup(str(poi) + ' Cluster ' + str(cluster), parse_html=True)\n",
    "    folium.CircleMarker(\n",
    "        [lat, lon],\n",
    "        radius=5,\n",
    "        popup=label,\n",
    "        color=rainbow[cluster-1],\n",
    "        fill=True,\n",
    "        fill_color=rainbow[cluster-1],\n",
    "        fill_opacity=0.7).add_to(map_clusters)\n",
    "       \n",
    "map_clusters"
   ]
  },
  {
   "cell_type": "code",
   "execution_count": 25,
   "metadata": {},
   "outputs": [],
   "source": [
    "#Making the datasets of each cluster\n",
    "cluster_0 = df_supermerged.loc[df_supermerged['Cluster Labels'] == 0, df_supermerged.columns[[1,2,3,4,5] + list(range(6, df_supermerged.shape[1]))]]\n",
    "cluster_1 = df_supermerged.loc[df_supermerged['Cluster Labels'] == 1, df_supermerged.columns[[1,2,3,4,5] + list(range(6, df_supermerged.shape[1]))]]\n",
    "cluster_2 = df_supermerged.loc[df_supermerged['Cluster Labels'] == 2, df_supermerged.columns[[1,2,3,4,5] + list(range(6, df_supermerged.shape[1]))]]"
   ]
  },
  {
   "cell_type": "code",
   "execution_count": 26,
   "metadata": {},
   "outputs": [
    {
     "data": {
      "text/html": [
       "<div>\n",
       "<style scoped>\n",
       "    .dataframe tbody tr th:only-of-type {\n",
       "        vertical-align: middle;\n",
       "    }\n",
       "\n",
       "    .dataframe tbody tr th {\n",
       "        vertical-align: top;\n",
       "    }\n",
       "\n",
       "    .dataframe thead th {\n",
       "        text-align: right;\n",
       "    }\n",
       "</style>\n",
       "<table border=\"1\" class=\"dataframe\">\n",
       "  <thead>\n",
       "    <tr style=\"text-align: right;\">\n",
       "      <th></th>\n",
       "      <th>Population</th>\n",
       "      <th>Crimes per 1 person</th>\n",
       "      <th>Latitude</th>\n",
       "      <th>Longitude</th>\n",
       "      <th>Rent Price</th>\n",
       "    </tr>\n",
       "  </thead>\n",
       "  <tbody>\n",
       "    <tr>\n",
       "      <th>count</th>\n",
       "      <td>22.000000</td>\n",
       "      <td>22.000000</td>\n",
       "      <td>22.000000</td>\n",
       "      <td>22.000000</td>\n",
       "      <td>22.000000</td>\n",
       "    </tr>\n",
       "    <tr>\n",
       "      <th>mean</th>\n",
       "      <td>7790.909091</td>\n",
       "      <td>0.183235</td>\n",
       "      <td>39.328702</td>\n",
       "      <td>-76.625446</td>\n",
       "      <td>1209.000000</td>\n",
       "    </tr>\n",
       "    <tr>\n",
       "      <th>std</th>\n",
       "      <td>3581.558864</td>\n",
       "      <td>0.084477</td>\n",
       "      <td>0.035886</td>\n",
       "      <td>0.055042</td>\n",
       "      <td>215.651836</td>\n",
       "    </tr>\n",
       "    <tr>\n",
       "      <th>min</th>\n",
       "      <td>4219.000000</td>\n",
       "      <td>0.048281</td>\n",
       "      <td>39.234504</td>\n",
       "      <td>-76.709871</td>\n",
       "      <td>860.000000</td>\n",
       "    </tr>\n",
       "    <tr>\n",
       "      <th>25%</th>\n",
       "      <td>5471.500000</td>\n",
       "      <td>0.121359</td>\n",
       "      <td>39.311495</td>\n",
       "      <td>-76.664780</td>\n",
       "      <td>1080.000000</td>\n",
       "    </tr>\n",
       "    <tr>\n",
       "      <th>50%</th>\n",
       "      <td>6563.000000</td>\n",
       "      <td>0.200475</td>\n",
       "      <td>39.335068</td>\n",
       "      <td>-76.626312</td>\n",
       "      <td>1228.000000</td>\n",
       "    </tr>\n",
       "    <tr>\n",
       "      <th>75%</th>\n",
       "      <td>8492.250000</td>\n",
       "      <td>0.233515</td>\n",
       "      <td>39.355447</td>\n",
       "      <td>-76.589351</td>\n",
       "      <td>1303.500000</td>\n",
       "    </tr>\n",
       "    <tr>\n",
       "      <th>max</th>\n",
       "      <td>17694.000000</td>\n",
       "      <td>0.339715</td>\n",
       "      <td>39.371964</td>\n",
       "      <td>-76.529975</td>\n",
       "      <td>1720.000000</td>\n",
       "    </tr>\n",
       "  </tbody>\n",
       "</table>\n",
       "</div>"
      ],
      "text/plain": [
       "         Population  Crimes per 1 person   Latitude  Longitude   Rent Price\n",
       "count     22.000000            22.000000  22.000000  22.000000    22.000000\n",
       "mean    7790.909091             0.183235  39.328702 -76.625446  1209.000000\n",
       "std     3581.558864             0.084477   0.035886   0.055042   215.651836\n",
       "min     4219.000000             0.048281  39.234504 -76.709871   860.000000\n",
       "25%     5471.500000             0.121359  39.311495 -76.664780  1080.000000\n",
       "50%     6563.000000             0.200475  39.335068 -76.626312  1228.000000\n",
       "75%     8492.250000             0.233515  39.355447 -76.589351  1303.500000\n",
       "max    17694.000000             0.339715  39.371964 -76.529975  1720.000000"
      ]
     },
     "execution_count": 26,
     "metadata": {},
     "output_type": "execute_result"
    }
   ],
   "source": [
    "cluster_0.describe()\n",
    "# big population, low criminal level, low rent price. Just what we need!"
   ]
  },
  {
   "cell_type": "code",
   "execution_count": 27,
   "metadata": {},
   "outputs": [
    {
     "data": {
      "text/html": [
       "<div>\n",
       "<style scoped>\n",
       "    .dataframe tbody tr th:only-of-type {\n",
       "        vertical-align: middle;\n",
       "    }\n",
       "\n",
       "    .dataframe tbody tr th {\n",
       "        vertical-align: top;\n",
       "    }\n",
       "\n",
       "    .dataframe thead th {\n",
       "        text-align: right;\n",
       "    }\n",
       "</style>\n",
       "<table border=\"1\" class=\"dataframe\">\n",
       "  <thead>\n",
       "    <tr style=\"text-align: right;\">\n",
       "      <th></th>\n",
       "      <th>Population</th>\n",
       "      <th>Crimes per 1 person</th>\n",
       "      <th>Latitude</th>\n",
       "      <th>Longitude</th>\n",
       "      <th>Rent Price</th>\n",
       "    </tr>\n",
       "  </thead>\n",
       "  <tbody>\n",
       "    <tr>\n",
       "      <th>count</th>\n",
       "      <td>100.000000</td>\n",
       "      <td>100.000000</td>\n",
       "      <td>100.000000</td>\n",
       "      <td>100.000000</td>\n",
       "      <td>100.000000</td>\n",
       "    </tr>\n",
       "    <tr>\n",
       "      <th>mean</th>\n",
       "      <td>1957.826457</td>\n",
       "      <td>0.220191</td>\n",
       "      <td>39.322920</td>\n",
       "      <td>-76.642646</td>\n",
       "      <td>1042.110000</td>\n",
       "    </tr>\n",
       "    <tr>\n",
       "      <th>std</th>\n",
       "      <td>1041.812374</td>\n",
       "      <td>0.110125</td>\n",
       "      <td>0.029341</td>\n",
       "      <td>0.048646</td>\n",
       "      <td>115.289963</td>\n",
       "    </tr>\n",
       "    <tr>\n",
       "      <th>min</th>\n",
       "      <td>562.325500</td>\n",
       "      <td>0.021340</td>\n",
       "      <td>39.223828</td>\n",
       "      <td>-76.711206</td>\n",
       "      <td>850.000000</td>\n",
       "    </tr>\n",
       "    <tr>\n",
       "      <th>25%</th>\n",
       "      <td>1171.000000</td>\n",
       "      <td>0.147955</td>\n",
       "      <td>39.300160</td>\n",
       "      <td>-76.680856</td>\n",
       "      <td>956.000000</td>\n",
       "    </tr>\n",
       "    <tr>\n",
       "      <th>50%</th>\n",
       "      <td>1783.500000</td>\n",
       "      <td>0.202491</td>\n",
       "      <td>39.325201</td>\n",
       "      <td>-76.658645</td>\n",
       "      <td>1001.000000</td>\n",
       "    </tr>\n",
       "    <tr>\n",
       "      <th>75%</th>\n",
       "      <td>2617.500000</td>\n",
       "      <td>0.271709</td>\n",
       "      <td>39.347583</td>\n",
       "      <td>-76.607069</td>\n",
       "      <td>1080.000000</td>\n",
       "    </tr>\n",
       "    <tr>\n",
       "      <th>max</th>\n",
       "      <td>4974.000000</td>\n",
       "      <td>0.634654</td>\n",
       "      <td>39.372000</td>\n",
       "      <td>-76.529691</td>\n",
       "      <td>1325.000000</td>\n",
       "    </tr>\n",
       "  </tbody>\n",
       "</table>\n",
       "</div>"
      ],
      "text/plain": [
       "        Population  Crimes per 1 person    Latitude   Longitude   Rent Price\n",
       "count   100.000000           100.000000  100.000000  100.000000   100.000000\n",
       "mean   1957.826457             0.220191   39.322920  -76.642646  1042.110000\n",
       "std    1041.812374             0.110125    0.029341    0.048646   115.289963\n",
       "min     562.325500             0.021340   39.223828  -76.711206   850.000000\n",
       "25%    1171.000000             0.147955   39.300160  -76.680856   956.000000\n",
       "50%    1783.500000             0.202491   39.325201  -76.658645  1001.000000\n",
       "75%    2617.500000             0.271709   39.347583  -76.607069  1080.000000\n",
       "max    4974.000000             0.634654   39.372000  -76.529691  1325.000000"
      ]
     },
     "execution_count": 27,
     "metadata": {},
     "output_type": "execute_result"
    }
   ],
   "source": [
    "cluster_1.describe()\n",
    "# Small population, low criminal level, very low rent price. \n",
    "# Looks like this cluster is suburbs, map proves it. Definetely, not the best neighborhoods to open restaurant"
   ]
  },
  {
   "cell_type": "code",
   "execution_count": 28,
   "metadata": {},
   "outputs": [
    {
     "data": {
      "text/html": [
       "<div>\n",
       "<style scoped>\n",
       "    .dataframe tbody tr th:only-of-type {\n",
       "        vertical-align: middle;\n",
       "    }\n",
       "\n",
       "    .dataframe tbody tr th {\n",
       "        vertical-align: top;\n",
       "    }\n",
       "\n",
       "    .dataframe thead th {\n",
       "        text-align: right;\n",
       "    }\n",
       "</style>\n",
       "<table border=\"1\" class=\"dataframe\">\n",
       "  <thead>\n",
       "    <tr style=\"text-align: right;\">\n",
       "      <th></th>\n",
       "      <th>Population</th>\n",
       "      <th>Crimes per 1 person</th>\n",
       "      <th>Latitude</th>\n",
       "      <th>Longitude</th>\n",
       "      <th>Rent Price</th>\n",
       "    </tr>\n",
       "  </thead>\n",
       "  <tbody>\n",
       "    <tr>\n",
       "      <th>count</th>\n",
       "      <td>55.000000</td>\n",
       "      <td>55.000000</td>\n",
       "      <td>55.000000</td>\n",
       "      <td>55.000000</td>\n",
       "      <td>55.000000</td>\n",
       "    </tr>\n",
       "    <tr>\n",
       "      <th>mean</th>\n",
       "      <td>2188.654545</td>\n",
       "      <td>0.333739</td>\n",
       "      <td>39.302328</td>\n",
       "      <td>-76.603164</td>\n",
       "      <td>1629.290909</td>\n",
       "    </tr>\n",
       "    <tr>\n",
       "      <th>std</th>\n",
       "      <td>1286.399069</td>\n",
       "      <td>0.281875</td>\n",
       "      <td>0.025130</td>\n",
       "      <td>0.026491</td>\n",
       "      <td>207.716480</td>\n",
       "    </tr>\n",
       "    <tr>\n",
       "      <th>min</th>\n",
       "      <td>576.000000</td>\n",
       "      <td>0.033695</td>\n",
       "      <td>39.253584</td>\n",
       "      <td>-76.655543</td>\n",
       "      <td>1359.000000</td>\n",
       "    </tr>\n",
       "    <tr>\n",
       "      <th>25%</th>\n",
       "      <td>1245.000000</td>\n",
       "      <td>0.170480</td>\n",
       "      <td>39.286935</td>\n",
       "      <td>-76.619326</td>\n",
       "      <td>1445.000000</td>\n",
       "    </tr>\n",
       "    <tr>\n",
       "      <th>50%</th>\n",
       "      <td>1823.000000</td>\n",
       "      <td>0.273752</td>\n",
       "      <td>39.297023</td>\n",
       "      <td>-76.609417</td>\n",
       "      <td>1582.000000</td>\n",
       "    </tr>\n",
       "    <tr>\n",
       "      <th>75%</th>\n",
       "      <td>2989.500000</td>\n",
       "      <td>0.412277</td>\n",
       "      <td>39.318855</td>\n",
       "      <td>-76.589541</td>\n",
       "      <td>1738.000000</td>\n",
       "    </tr>\n",
       "    <tr>\n",
       "      <th>max</th>\n",
       "      <td>5671.000000</td>\n",
       "      <td>1.580863</td>\n",
       "      <td>39.371998</td>\n",
       "      <td>-76.529808</td>\n",
       "      <td>2063.000000</td>\n",
       "    </tr>\n",
       "  </tbody>\n",
       "</table>\n",
       "</div>"
      ],
      "text/plain": [
       "        Population  Crimes per 1 person   Latitude  Longitude   Rent Price\n",
       "count    55.000000            55.000000  55.000000  55.000000    55.000000\n",
       "mean   2188.654545             0.333739  39.302328 -76.603164  1629.290909\n",
       "std    1286.399069             0.281875   0.025130   0.026491   207.716480\n",
       "min     576.000000             0.033695  39.253584 -76.655543  1359.000000\n",
       "25%    1245.000000             0.170480  39.286935 -76.619326  1445.000000\n",
       "50%    1823.000000             0.273752  39.297023 -76.609417  1582.000000\n",
       "75%    2989.500000             0.412277  39.318855 -76.589541  1738.000000\n",
       "max    5671.000000             1.580863  39.371998 -76.529808  2063.000000"
      ]
     },
     "execution_count": 28,
     "metadata": {},
     "output_type": "execute_result"
    }
   ],
   "source": [
    "cluster_2.describe()\n",
    "# Small population, relatively high criminal level, high rent price.\n",
    "# The worst choice in terms of opening a restaurant"
   ]
  },
  {
   "cell_type": "markdown",
   "metadata": {},
   "source": [
    "### Foursquare API to understand foot traffic in the neighborhoods"
   ]
  },
  {
   "cell_type": "code",
   "execution_count": 29,
   "metadata": {},
   "outputs": [],
   "source": [
    "#Define foursquare credentials and version\n",
    "CLIENT_ID = 'MTBEPPARHYK0B1AEQOHT3LM1PCQK2TATB430OZZ5502NZ3YH' # my Foursquare ID\n",
    "CLIENT_SECRET = 'Q1ASXW0QJYGAFL230KLUZFM4EJTIVCV4JYVEEY0DGOZA3R5H' # my Foursquare Secret\n",
    "VERSION = '20180605' # Foursquare API version"
   ]
  },
  {
   "cell_type": "code",
   "execution_count": 30,
   "metadata": {},
   "outputs": [],
   "source": [
    "#let's get for all neighborhoods the top 100 venues within a radius of 500 meters.¶\n",
    "def getNearbyVenues(names, latitudes, longitudes, radius=500):\n",
    "    \n",
    "    venues_list=[]\n",
    "    for name, lat, lng in zip(names, latitudes, longitudes):\n",
    "        print(name)\n",
    "            \n",
    "        # create the API request URL\n",
    "        url = 'https://api.foursquare.com/v2/venues/explore?&client_id={}&client_secret={}&v={}&ll={},{}&radius={}&limit={}'.format(\n",
    "            CLIENT_ID, \n",
    "            CLIENT_SECRET, \n",
    "            VERSION, \n",
    "            lat, \n",
    "            lng, \n",
    "            radius, \n",
    "            limit)\n",
    "            \n",
    "        # make the GET request\n",
    "        results = requests.get(url).json()[\"response\"]['groups'][0]['items']\n",
    "        \n",
    "        # return only relevant information for each nearby venue\n",
    "        venues_list.append([(\n",
    "            name, \n",
    "            lat, \n",
    "            lng, \n",
    "            v['venue']['name'], \n",
    "            v['venue']['location']['lat'], \n",
    "            v['venue']['location']['lng'],  \n",
    "            v['venue']['categories'][0]['name']) for v in results])\n",
    "\n",
    "    nearby_venues = pd.DataFrame([item for venue_list in venues_list for item in venue_list])\n",
    "    nearby_venues.columns = ['Neighborhood', \n",
    "                  'Neighborhood Latitude', \n",
    "                  'Neighborhood Longitude', \n",
    "                  'Venue', \n",
    "                  'Venue Latitude', \n",
    "                  'Venue Longitude', \n",
    "                  'Venue Category']\n",
    "    \n",
    "    return(nearby_venues)\n",
    "limit=100"
   ]
  },
  {
   "cell_type": "code",
   "execution_count": 31,
   "metadata": {},
   "outputs": [
    {
     "name": "stdout",
     "output_type": "stream",
     "text": [
      "UPTON\n",
      "BROOKLYN\n",
      "BROADWAY EAST\n",
      "SANDTOWN-WINCHESTER\n",
      "CHERRY HILL\n",
      "CENTRAL PARK HEIGHTS\n",
      "FRANKFORD\n",
      "RESERVOIR HILL\n",
      "BELAIR-EDISON\n",
      "HAMPDEN\n",
      "CANTON\n",
      "CHARLES VILLAGE\n",
      "HOWARD PARK\n",
      "NEW NORTHWOOD\n",
      "WALTHERSON\n",
      "LOCH RAVEN\n",
      "GLEN\n",
      "FALLSTAFF\n",
      "ROLAND PARK\n",
      "NORTH HARFORD ROAD\n",
      "CROSS COUNTRY\n",
      "CHESWOLDE\n"
     ]
    }
   ],
   "source": [
    "#getting list of venues for each neighborhood\n",
    "baltimore_venues = getNearbyVenues(names=cluster_0['Neighborhood'],\n",
    "                                   latitudes=cluster_0['Latitude'],\n",
    "                                   longitudes=cluster_0['Longitude'])"
   ]
  },
  {
   "cell_type": "code",
   "execution_count": 32,
   "metadata": {},
   "outputs": [
    {
     "name": "stdout",
     "output_type": "stream",
     "text": [
      "(234, 7)\n"
     ]
    },
    {
     "data": {
      "text/html": [
       "<div>\n",
       "<style scoped>\n",
       "    .dataframe tbody tr th:only-of-type {\n",
       "        vertical-align: middle;\n",
       "    }\n",
       "\n",
       "    .dataframe tbody tr th {\n",
       "        vertical-align: top;\n",
       "    }\n",
       "\n",
       "    .dataframe thead th {\n",
       "        text-align: right;\n",
       "    }\n",
       "</style>\n",
       "<table border=\"1\" class=\"dataframe\">\n",
       "  <thead>\n",
       "    <tr style=\"text-align: right;\">\n",
       "      <th></th>\n",
       "      <th>Neighborhood</th>\n",
       "      <th>Neighborhood Latitude</th>\n",
       "      <th>Neighborhood Longitude</th>\n",
       "      <th>Venue</th>\n",
       "      <th>Venue Latitude</th>\n",
       "      <th>Venue Longitude</th>\n",
       "      <th>Venue Category</th>\n",
       "    </tr>\n",
       "  </thead>\n",
       "  <tbody>\n",
       "    <tr>\n",
       "      <th>0</th>\n",
       "      <td>UPTON</td>\n",
       "      <td>39.300173</td>\n",
       "      <td>-76.624831</td>\n",
       "      <td>Land of Kush</td>\n",
       "      <td>39.300180</td>\n",
       "      <td>-76.621671</td>\n",
       "      <td>Vegetarian / Vegan Restaurant</td>\n",
       "    </tr>\n",
       "    <tr>\n",
       "      <th>1</th>\n",
       "      <td>UPTON</td>\n",
       "      <td>39.300173</td>\n",
       "      <td>-76.624831</td>\n",
       "      <td>Eubie Blake National Jazz Institute And Cultur...</td>\n",
       "      <td>39.299596</td>\n",
       "      <td>-76.619939</td>\n",
       "      <td>History Museum</td>\n",
       "    </tr>\n",
       "    <tr>\n",
       "      <th>2</th>\n",
       "      <td>UPTON</td>\n",
       "      <td>39.300173</td>\n",
       "      <td>-76.624831</td>\n",
       "      <td>The Bun Shop</td>\n",
       "      <td>39.300658</td>\n",
       "      <td>-76.619488</td>\n",
       "      <td>Bakery</td>\n",
       "    </tr>\n",
       "    <tr>\n",
       "      <th>3</th>\n",
       "      <td>UPTON</td>\n",
       "      <td>39.300173</td>\n",
       "      <td>-76.624831</td>\n",
       "      <td>Linden Deli</td>\n",
       "      <td>39.301302</td>\n",
       "      <td>-76.620002</td>\n",
       "      <td>Deli / Bodega</td>\n",
       "    </tr>\n",
       "    <tr>\n",
       "      <th>4</th>\n",
       "      <td>UPTON</td>\n",
       "      <td>39.300173</td>\n",
       "      <td>-76.624831</td>\n",
       "      <td>Hip Hop Fish &amp; Chicken</td>\n",
       "      <td>39.300345</td>\n",
       "      <td>-76.621890</td>\n",
       "      <td>Fish &amp; Chips Shop</td>\n",
       "    </tr>\n",
       "  </tbody>\n",
       "</table>\n",
       "</div>"
      ],
      "text/plain": [
       "  Neighborhood  Neighborhood Latitude  Neighborhood Longitude  \\\n",
       "0        UPTON              39.300173              -76.624831   \n",
       "1        UPTON              39.300173              -76.624831   \n",
       "2        UPTON              39.300173              -76.624831   \n",
       "3        UPTON              39.300173              -76.624831   \n",
       "4        UPTON              39.300173              -76.624831   \n",
       "\n",
       "                                               Venue  Venue Latitude  \\\n",
       "0                                       Land of Kush       39.300180   \n",
       "1  Eubie Blake National Jazz Institute And Cultur...       39.299596   \n",
       "2                                       The Bun Shop       39.300658   \n",
       "3                                        Linden Deli       39.301302   \n",
       "4                             Hip Hop Fish & Chicken       39.300345   \n",
       "\n",
       "   Venue Longitude                 Venue Category  \n",
       "0       -76.621671  Vegetarian / Vegan Restaurant  \n",
       "1       -76.619939                 History Museum  \n",
       "2       -76.619488                         Bakery  \n",
       "3       -76.620002                  Deli / Bodega  \n",
       "4       -76.621890              Fish & Chips Shop  "
      ]
     },
     "execution_count": 32,
     "metadata": {},
     "output_type": "execute_result"
    }
   ],
   "source": [
    "print(baltimore_venues.shape)\n",
    "baltimore_venues.head()"
   ]
  },
  {
   "cell_type": "code",
   "execution_count": 33,
   "metadata": {},
   "outputs": [
    {
     "data": {
      "text/plain": [
       "Neighborhood\n",
       "CANTON             34\n",
       "CHARLES VILLAGE    30\n",
       "GLEN               30\n",
       "HAMPDEN            30\n",
       "Name: Neighborhood Latitude, dtype: int64"
      ]
     },
     "execution_count": 33,
     "metadata": {},
     "output_type": "execute_result"
    }
   ],
   "source": [
    "#Choosing neighborhoods with a lot of venues\n",
    "baltimore_venues.groupby('Neighborhood').count()\n",
    "df = baltimore_venues.groupby('Neighborhood').filter(lambda x : len(x)>20)\n",
    "df.iloc[:, 0]"
   ]
  },
  {
   "cell_type": "code",
   "execution_count": 34,
   "metadata": {},
   "outputs": [
    {
     "data": {
      "text/html": [
       "<div>\n",
       "<style scoped>\n",
       "    .dataframe tbody tr th:only-of-type {\n",
       "        vertical-align: middle;\n",
       "    }\n",
       "\n",
       "    .dataframe tbody tr th {\n",
       "        vertical-align: top;\n",
       "    }\n",
       "\n",
       "    .dataframe thead th {\n",
       "        text-align: right;\n",
       "    }\n",
       "</style>\n",
       "<table border=\"1\" class=\"dataframe\">\n",
       "  <thead>\n",
       "    <tr style=\"text-align: right;\">\n",
       "      <th></th>\n",
       "      <th>Neighborhood</th>\n",
       "      <th>Population</th>\n",
       "      <th>Crimes per 1 person</th>\n",
       "      <th>Latitude</th>\n",
       "      <th>Longitude</th>\n",
       "      <th>Rent Price</th>\n",
       "    </tr>\n",
       "  </thead>\n",
       "  <tbody>\n",
       "    <tr>\n",
       "      <th>99</th>\n",
       "      <td>HAMPDEN</td>\n",
       "      <td>6963.0</td>\n",
       "      <td>0.202786</td>\n",
       "      <td>39.327068</td>\n",
       "      <td>-76.627793</td>\n",
       "      <td>1306.0</td>\n",
       "    </tr>\n",
       "    <tr>\n",
       "      <th>102</th>\n",
       "      <td>CANTON</td>\n",
       "      <td>12192.0</td>\n",
       "      <td>0.201198</td>\n",
       "      <td>39.286136</td>\n",
       "      <td>-76.580042</td>\n",
       "      <td>1720.0</td>\n",
       "    </tr>\n",
       "    <tr>\n",
       "      <th>104</th>\n",
       "      <td>CHARLES VILLAGE</td>\n",
       "      <td>8906.0</td>\n",
       "      <td>0.199753</td>\n",
       "      <td>39.317899</td>\n",
       "      <td>-76.615389</td>\n",
       "      <td>1445.0</td>\n",
       "    </tr>\n",
       "    <tr>\n",
       "      <th>155</th>\n",
       "      <td>GLEN</td>\n",
       "      <td>7876.0</td>\n",
       "      <td>0.120112</td>\n",
       "      <td>39.356230</td>\n",
       "      <td>-76.702458</td>\n",
       "      <td>1001.0</td>\n",
       "    </tr>\n",
       "  </tbody>\n",
       "</table>\n",
       "</div>"
      ],
      "text/plain": [
       "        Neighborhood  Population  Crimes per 1 person   Latitude  Longitude  \\\n",
       "99           HAMPDEN      6963.0             0.202786  39.327068 -76.627793   \n",
       "102           CANTON     12192.0             0.201198  39.286136 -76.580042   \n",
       "104  CHARLES VILLAGE      8906.0             0.199753  39.317899 -76.615389   \n",
       "155             GLEN      7876.0             0.120112  39.356230 -76.702458   \n",
       "\n",
       "     Rent Price  \n",
       "99       1306.0  \n",
       "102      1720.0  \n",
       "104      1445.0  \n",
       "155      1001.0  "
      ]
     },
     "execution_count": 34,
     "metadata": {},
     "output_type": "execute_result"
    }
   ],
   "source": [
    "#Selected_Neighborhoods is a final dataset.\n",
    "#It shows the best neighborhoods to open restaurant\n",
    "Selected_Neighborhoods = cluster_0.loc[(cluster_0['Neighborhood']=='CANTON') | (cluster_0['Neighborhood']=='CHARLES VILLAGE') | (cluster_0['Neighborhood']=='GLEN') | (cluster_0['Neighborhood']=='HAMPDEN')]\n",
    "Selected_Neighborhoods"
   ]
  },
  {
   "cell_type": "markdown",
   "metadata": {},
   "source": [
    "## Results"
   ]
  },
  {
   "cell_type": "markdown",
   "metadata": {},
   "source": [
    "I have pulled data on population, rent prices and crime rates for every neighborhood in Baltimore and used this information to narrow down our neighborhood options to 1 cluster of 22 neighborhoods. Then I used Foursquare API for these 22 neighborhoods and retrieved number of popular venues in every neighborhood. It allowed me to select 4 neighborhoods with the highest foot traffic."
   ]
  },
  {
   "cell_type": "code",
   "execution_count": 47,
   "metadata": {},
   "outputs": [
    {
     "data": {
      "text/html": [
       "<div style=\"width:100%;\"><div style=\"position:relative;width:100%;height:0;padding-bottom:60%;\"><span style=\"color:#565656\">Make this Notebook Trusted to load map: File -> Trust Notebook</span><iframe src=\"about:blank\" style=\"position:absolute;width:100%;height:100%;left:0;top:0;border:none !important;\" data-html=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 onload=\"this.contentDocument.open();this.contentDocument.write(atob(this.getAttribute('data-html')));this.contentDocument.close();\" allowfullscreen webkitallowfullscreen mozallowfullscreen></iframe></div></div>"
      ],
      "text/plain": [
       "<folium.folium.Map at 0x7f9fba1ad748>"
      ]
     },
     "execution_count": 47,
     "metadata": {},
     "output_type": "execute_result"
    }
   ],
   "source": [
    "map_baltimore = folium.Map(location=[latitude, longitude], zoom_start=10)\n",
    "\n",
    "for lat, lng, neighborhood in zip(Selected_Neighborhoods['Latitude'], Selected_Neighborhoods['Longitude'], Selected_Neighborhoods['Neighborhood']):\n",
    "    label = '{}'.format(neighborhood)\n",
    "    label = folium.Popup(label, parse_html=True)\n",
    "    folium.CircleMarker(\n",
    "        [lat, lng],\n",
    "        radius=5,\n",
    "        popup=label,\n",
    "        color='blue',\n",
    "        fill=True,\n",
    "        fill_color='#3186cc',\n",
    "        fill_opacity=0.7,\n",
    "        parse_html=False).add_to(map_baltimore)  \n",
    "    \n",
    "map_baltimore"
   ]
  },
  {
   "cell_type": "code",
   "execution_count": 48,
   "metadata": {},
   "outputs": [
    {
     "data": {
      "text/html": [
       "<div>\n",
       "<style scoped>\n",
       "    .dataframe tbody tr th:only-of-type {\n",
       "        vertical-align: middle;\n",
       "    }\n",
       "\n",
       "    .dataframe tbody tr th {\n",
       "        vertical-align: top;\n",
       "    }\n",
       "\n",
       "    .dataframe thead th {\n",
       "        text-align: right;\n",
       "    }\n",
       "</style>\n",
       "<table border=\"1\" class=\"dataframe\">\n",
       "  <thead>\n",
       "    <tr style=\"text-align: right;\">\n",
       "      <th></th>\n",
       "      <th>Neighborhood</th>\n",
       "      <th>Population</th>\n",
       "      <th>Crimes per 1 person</th>\n",
       "      <th>Rent Price</th>\n",
       "      <th>Venues</th>\n",
       "    </tr>\n",
       "  </thead>\n",
       "  <tbody>\n",
       "    <tr>\n",
       "      <th>0</th>\n",
       "      <td>HAMPDEN</td>\n",
       "      <td>6963.0</td>\n",
       "      <td>0.202786</td>\n",
       "      <td>1306.0</td>\n",
       "      <td>30</td>\n",
       "    </tr>\n",
       "    <tr>\n",
       "      <th>1</th>\n",
       "      <td>CANTON</td>\n",
       "      <td>12192.0</td>\n",
       "      <td>0.201198</td>\n",
       "      <td>1720.0</td>\n",
       "      <td>34</td>\n",
       "    </tr>\n",
       "    <tr>\n",
       "      <th>2</th>\n",
       "      <td>CHARLES VILLAGE</td>\n",
       "      <td>8906.0</td>\n",
       "      <td>0.199753</td>\n",
       "      <td>1445.0</td>\n",
       "      <td>30</td>\n",
       "    </tr>\n",
       "    <tr>\n",
       "      <th>3</th>\n",
       "      <td>GLEN</td>\n",
       "      <td>7876.0</td>\n",
       "      <td>0.120112</td>\n",
       "      <td>1001.0</td>\n",
       "      <td>30</td>\n",
       "    </tr>\n",
       "  </tbody>\n",
       "</table>\n",
       "</div>"
      ],
      "text/plain": [
       "      Neighborhood  Population  Crimes per 1 person  Rent Price  Venues\n",
       "0          HAMPDEN      6963.0             0.202786      1306.0      30\n",
       "1           CANTON     12192.0             0.201198      1720.0      34\n",
       "2  CHARLES VILLAGE      8906.0             0.199753      1445.0      30\n",
       "3             GLEN      7876.0             0.120112      1001.0      30"
      ]
     },
     "execution_count": 48,
     "metadata": {},
     "output_type": "execute_result"
    }
   ],
   "source": [
    "df = df.reset_index()\n",
    "df = df[['Neighborhood','Venue']]\n",
    "Results = pd.merge(Selected_Neighborhoods,df,how=\"outer\",on=\"Neighborhood\")\n",
    "Results = Results[['Neighborhood','Population','Crimes per 1 person','Rent Price','Venue']]\n",
    "Results.rename(columns={'Venue': 'Venues'}, inplace = True)\n",
    "Results"
   ]
  },
  {
   "cell_type": "markdown",
   "metadata": {},
   "source": [
    "Let's now analyze 4 retrieved neighborhoods: Hampden, Canton, Charles Village and Glen. First of all, each neighborhood is densely populated and safe compared to other Baltimore neighborhoods (average Baltimore neighborhood population - 2755, average crimes per person - 0,25). In terms of foot traffic these 4 neighborhoods are also one of the best (only 17 out of 270 have more than 34 popular venues). Rent prices significantly differs between 4 neighborhoods (from 1001 to 1720. Anyway its much lower than maximum of 2063). \n",
    "So, I can conclude that <b>each of 4 selected neighborhoods could be a very good location to open a restaurant</b>. \n",
    "\n",
    "<b>GLEN</b>  Extremely low rent price and safety level, but located in Baltimore suburbs. Perfect place to open cheap fast food restaurant with small budget.\n",
    "\n",
    "<b>HAMPDEN and CHARLES VILLAGE</b>  Good safety level and medium rent prices. Located relatively close to city center. Very well-balanced choices in terms of opening a fast food restaurant.\n",
    "\n",
    "<b>CANTON</b> The most populated neighborhood and located in the city center near the biggest city park! It's fair that rent price is higher than average. Canton is a perfect location to open a restaurant, if an entrepreneur can afford a rent\n",
    "\n",
    "Ultimately, the optimal spot depends on what type of restaurant you would like to open.\n"
   ]
  },
  {
   "cell_type": "markdown",
   "metadata": {},
   "source": [
    "## Discussion"
   ]
  },
  {
   "cell_type": "markdown",
   "metadata": {},
   "source": [
    "A major drawback of this analysis is that the clustering was completely based on Foursquare’ s data for popular venues. There are plenty other ways to assess popularity of neighborhoods and the spots inside them, venue popularity is just one of them. It may also be helpful to look exclusively at cafes and restaurants in an area, how many there are, and how popular they are on weekdays and weekends.\n",
    "\n"
   ]
  },
  {
   "cell_type": "markdown",
   "metadata": {},
   "source": [
    "## Conclusion"
   ]
  },
  {
   "cell_type": "markdown",
   "metadata": {},
   "source": [
    "Finally, we have executed an end-to-end data science project using common python libraries to manipulate datasets, Foursquare API to explore the neighborhoods of Baltimore, Folium leaflet map and unsupervised machine learning algorithm K-means with elbow method to cluster and segment neighborhoods. Thanks for reading!"
   ]
  }
 ],
 "metadata": {
  "kernelspec": {
   "display_name": "Python 3",
   "language": "python",
   "name": "python3"
  },
  "language_info": {
   "codemirror_mode": {
    "name": "ipython",
    "version": 3
   },
   "file_extension": ".py",
   "mimetype": "text/x-python",
   "name": "python",
   "nbconvert_exporter": "python",
   "pygments_lexer": "ipython3",
   "version": "3.6.10"
  }
 },
 "nbformat": 4,
 "nbformat_minor": 4
}
